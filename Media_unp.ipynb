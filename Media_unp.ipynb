{
  "nbformat": 4,
  "nbformat_minor": 0,
  "metadata": {
    "colab": {
      "provenance": [],
      "authorship_tag": "ABX9TyOwHzSTRsqiiU5P66UzbuYZ",
      "include_colab_link": true
    },
    "kernelspec": {
      "name": "python3",
      "display_name": "Python 3"
    },
    "language_info": {
      "name": "python"
    }
  },
  "cells": [
    {
      "cell_type": "markdown",
      "metadata": {
        "id": "view-in-github",
        "colab_type": "text"
      },
      "source": [
        "<a href=\"https://colab.research.google.com/github/DrDutra/exercicios/blob/main/Media_unp.ipynb\" target=\"_parent\"><img src=\"https://colab.research.google.com/assets/colab-badge.svg\" alt=\"Open In Colab\"/></a>"
      ]
    },
    {
      "cell_type": "code",
      "execution_count": 5,
      "metadata": {
        "colab": {
          "base_uri": "https://localhost:8080/"
        },
        "id": "DYTQZycNanTa",
        "outputId": "27e78d48-c4f3-49c6-89d3-2755f71c7627"
      },
      "outputs": [
        {
          "output_type": "stream",
          "name": "stdout",
          "text": [
            "Digite a primeira nota: 70\n",
            "Digite a segunda nota: 60\n",
            "Digite a terceira nota: 80\n",
            "A média ponderada das notas é: 71.00\n",
            "Situação do aluno: Aprovado\n"
          ]
        }
      ],
      "source": [
        "def calcular_media_e_situacao(nota1, nota2, nota3):\n",
        "  \"\"\"Calcula a média ponderada de três notas e determina a situação do aluno.\n",
        "\n",
        "  Args:\n",
        "    nota1: A primeira nota (peso 30%).\n",
        "    nota2: A segunda nota (peso 30%).\n",
        "    nota3: A terceira nota (peso 40%).\n",
        "\n",
        "  Returns:\n",
        "    Uma tupla contendo a média ponderada e a situação do aluno ('Reprovado', 'Recuperação', 'Aprovado').\n",
        "  \"\"\"\n",
        "  peso1 = 0.30\n",
        "  peso2 = 0.30\n",
        "  peso3 = 0.40\n",
        "  media = (nota1 * peso1) + (nota2 * peso2) + (nota3 * peso3)\n",
        "\n",
        "  if media < 40:\n",
        "    situacao = \"Reprovado\"\n",
        "  elif media >= 40 and media < 70:\n",
        "    situacao = \"Recuperação\"\n",
        "  else:\n",
        "    situacao = \"Aprovado\"\n",
        "\n",
        "  return media, situacao\n",
        "\n",
        "# Exemplo de uso:\n",
        "nota_1 = float(input(\"Digite a primeira nota: \"))\n",
        "nota_2 = float(input(\"Digite a segunda nota: \"))\n",
        "nota_3 = float(input(\"Digite a terceira nota: \"))\n",
        "\n",
        "media_final, situacao_aluno = calcular_media_e_situacao(nota_1, nota_2, nota_3)\n",
        "print(f\"A média ponderada das notas é: {media_final:.2f}\")\n",
        "print(f\"Situação do aluno: {situacao_aluno}\")"
      ]
    }
  ]
}