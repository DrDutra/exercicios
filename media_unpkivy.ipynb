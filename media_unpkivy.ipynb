{
  "nbformat": 4,
  "nbformat_minor": 0,
  "metadata": {
    "colab": {
      "provenance": [],
      "authorship_tag": "ABX9TyPRqc10rQuOz7BXJg87Lfw1",
      "include_colab_link": true
    },
    "kernelspec": {
      "name": "python3",
      "display_name": "Python 3"
    },
    "language_info": {
      "name": "python"
    }
  },
  "cells": [
    {
      "cell_type": "markdown",
      "metadata": {
        "id": "view-in-github",
        "colab_type": "text"
      },
      "source": [
        "<a href=\"https://colab.research.google.com/github/DrDutra/exercicios/blob/main/media_unpkivy.ipynb\" target=\"_parent\"><img src=\"https://colab.research.google.com/assets/colab-badge.svg\" alt=\"Open In Colab\"/></a>"
      ]
    },
    {
      "cell_type": "code",
      "execution_count": 1,
      "metadata": {
        "colab": {
          "base_uri": "https://localhost:8080/",
          "height": 383
        },
        "id": "UMRxSMPBjsx_",
        "outputId": "2b20beb4-eaa6-46b0-96ff-1060bf918b9d"
      },
      "outputs": [
        {
          "output_type": "error",
          "ename": "ModuleNotFoundError",
          "evalue": "No module named 'kivy'",
          "traceback": [
            "\u001b[0;31m---------------------------------------------------------------------------\u001b[0m",
            "\u001b[0;31mModuleNotFoundError\u001b[0m                       Traceback (most recent call last)",
            "\u001b[0;32m<ipython-input-1-c75ed60773d9>\u001b[0m in \u001b[0;36m<cell line: 0>\u001b[0;34m()\u001b[0m\n\u001b[0;32m----> 1\u001b[0;31m \u001b[0;32mfrom\u001b[0m \u001b[0mkivy\u001b[0m\u001b[0;34m.\u001b[0m\u001b[0mapp\u001b[0m \u001b[0;32mimport\u001b[0m \u001b[0mApp\u001b[0m\u001b[0;34m\u001b[0m\u001b[0;34m\u001b[0m\u001b[0m\n\u001b[0m\u001b[1;32m      2\u001b[0m \u001b[0;32mfrom\u001b[0m \u001b[0mkivy\u001b[0m\u001b[0;34m.\u001b[0m\u001b[0muix\u001b[0m\u001b[0;34m.\u001b[0m\u001b[0mgridlayout\u001b[0m \u001b[0;32mimport\u001b[0m \u001b[0mGridLayout\u001b[0m\u001b[0;34m\u001b[0m\u001b[0;34m\u001b[0m\u001b[0m\n\u001b[1;32m      3\u001b[0m \u001b[0;32mfrom\u001b[0m \u001b[0mkivy\u001b[0m\u001b[0;34m.\u001b[0m\u001b[0muix\u001b[0m\u001b[0;34m.\u001b[0m\u001b[0mlabel\u001b[0m \u001b[0;32mimport\u001b[0m \u001b[0mLabel\u001b[0m\u001b[0;34m\u001b[0m\u001b[0;34m\u001b[0m\u001b[0m\n\u001b[1;32m      4\u001b[0m \u001b[0;32mfrom\u001b[0m \u001b[0mkivy\u001b[0m\u001b[0;34m.\u001b[0m\u001b[0muix\u001b[0m\u001b[0;34m.\u001b[0m\u001b[0mtextinput\u001b[0m \u001b[0;32mimport\u001b[0m \u001b[0mTextInput\u001b[0m\u001b[0;34m\u001b[0m\u001b[0;34m\u001b[0m\u001b[0m\n\u001b[1;32m      5\u001b[0m \u001b[0;32mfrom\u001b[0m \u001b[0mkivy\u001b[0m\u001b[0;34m.\u001b[0m\u001b[0muix\u001b[0m\u001b[0;34m.\u001b[0m\u001b[0mbutton\u001b[0m \u001b[0;32mimport\u001b[0m \u001b[0mButton\u001b[0m\u001b[0;34m\u001b[0m\u001b[0;34m\u001b[0m\u001b[0m\n",
            "\u001b[0;31mModuleNotFoundError\u001b[0m: No module named 'kivy'",
            "",
            "\u001b[0;31m---------------------------------------------------------------------------\u001b[0;32m\nNOTE: If your import is failing due to a missing package, you can\nmanually install dependencies using either !pip or !apt.\n\nTo view examples of installing some common dependencies, click the\n\"Open Examples\" button below.\n\u001b[0;31m---------------------------------------------------------------------------\u001b[0m\n"
          ],
          "errorDetails": {
            "actions": [
              {
                "action": "open_url",
                "actionText": "Open Examples",
                "url": "/notebooks/snippets/importing_libraries.ipynb"
              }
            ]
          }
        }
      ],
      "source": [
        "from kivy.app import App\n",
        "from kivy.uix.gridlayout import GridLayout\n",
        "from kivy.uix.label import Label\n",
        "from kivy.uix.textinput import TextInput\n",
        "from kivy.uix.button import Button\n",
        "from kivy.properties import StringProperty\n",
        "\n",
        "class CalculadoraMediaApp(App):\n",
        "    media_str = StringProperty('')\n",
        "    situacao_str = StringProperty('')\n",
        "\n",
        "    def build(self):\n",
        "        layout = GridLayout(cols=2, row_force_default=True, row_default_height=40)\n",
        "        self.nota1_input = TextInput(hint_text='Nota 1')\n",
        "        self.nota2_input = TextInput(hint_text='Nota 2')\n",
        "        self.nota3_input = TextInput(hint_text='Nota 3')\n",
        "        calcular_btn = Button(text='Calcular')\n",
        "        calcular_btn.bind(on_press=self.calcular_media_e_situacao_app)\n",
        "        self.resultado_label = Label(text='Média:')\n",
        "        self.situacao_label = Label(text='Situação:')\n",
        "\n",
        "        layout.add_widget(Label(text='Nota 1:'))\n",
        "        layout.add_widget(self.nota1_input)\n",
        "        layout.add_widget(Label(text='Nota 2:'))\n",
        "        layout.add_widget(self.nota2_input)\n",
        "        layout.add_widget(Label(text='Nota 3:'))\n",
        "        layout.add_widget(self.nota3_input)\n",
        "        layout.add_widget(Label()) # Espaço vazio\n",
        "        layout.add_widget(calcular_btn)\n",
        "        layout.add_widget(self.resultado_label)\n",
        "        layout.add_widget(Label(text=self.media_str))\n",
        "        layout.add_widget(self.situacao_label)\n",
        "        layout.add_widget(Label(text=self.situacao_str))\n",
        "\n",
        "        return layout\n",
        "\n",
        "    def calcular_media_e_situacao(self, nota1, nota2, nota3):\n",
        "        peso1 = 0.30\n",
        "        peso2 = 0.30\n",
        "        peso3 = 0.40\n",
        "        media = (nota1 * peso1) + (nota2 * peso2) + (nota3 * peso3)\n",
        "\n",
        "        if media < 40:\n",
        "            situacao = \"Reprovado\"\n",
        "        elif media >= 40 and media < 70:\n",
        "            situacao = \"Recuperação\"\n",
        "        else:\n",
        "            situacao = \"Aprovado\"\n",
        "\n",
        "        return f\"{media:.2f}\", situacao\n",
        "\n",
        "    def calcular_media_e_situacao_app(self, instance):\n",
        "        try:\n",
        "            nota1 = float(self.nota1_input.text)\n",
        "            nota2 = float(self.nota2_input.text)\n",
        "            nota3 = float(self.nota3_input.text)\n",
        "            media, situacao = self.calcular_media_e_situacao(nota1, nota2, nota3)\n",
        "            self.media_str = f\"Média: {media}\"\n",
        "            self.situacao_str = f\"Situação: {situacao}\"\n",
        "        except ValueError:\n",
        "            self.media_str = \"Erro: Digite números\"\n",
        "            self.situacao_str = \"\"\n",
        "\n",
        "if __name__ == '__main__':\n",
        "    CalculadoraMediaApp().run()"
      ]
    }
  ]
}